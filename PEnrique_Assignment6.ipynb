{
  "nbformat": 4,
  "nbformat_minor": 0,
  "metadata": {
    "colab": {
      "provenance": []
    },
    "kernelspec": {
      "name": "python3",
      "display_name": "Python 3"
    },
    "language_info": {
      "name": "python"
    }
  },
  "cells": [
    {
      "cell_type": "code",
      "execution_count": 1,
      "metadata": {
        "id": "LzwZzjN3JL1y"
      },
      "outputs": [],
      "source": [
        "import pandas as pd\n",
        "import numpy as np\n",
        "import matplotlib.pyplot as plt\n",
        "\n",
        "from sklearn.ensemble import GradientBoostingClassifier\n",
        "from sklearn.model_selection import train_test_split\n",
        "from sklearn import metrics\n",
        "from sklearn import svm"
      ]
    },
    {
      "cell_type": "code",
      "source": [
        "from google.colab import drive\n",
        "drive.mount('/content/drive')\n",
        "\n",
        "import warnings\n",
        "warnings.filterwarnings(\"ignore\")"
      ],
      "metadata": {
        "colab": {
          "base_uri": "https://localhost:8080/",
          "height": 0
        },
        "id": "T_u5xO2xJN04",
        "outputId": "a0d3499e-e2e9-40eb-db05-f33cb814f0ab"
      },
      "execution_count": 2,
      "outputs": [
        {
          "output_type": "stream",
          "name": "stdout",
          "text": [
            "Drive already mounted at /content/drive; to attempt to forcibly remount, call drive.mount(\"/content/drive\", force_remount=True).\n"
          ]
        }
      ]
    },
    {
      "cell_type": "code",
      "source": [
        "#Read in dataframe, clean data\n",
        "df = pd.read_csv('/content/drive/MyDrive/AAI510/MODULE1/home-credit-default-risk/application_train.csv')\n",
        "df = df.dropna()\n",
        "\n",
        "for column in df:\n",
        "  if df[column].dtypes == 'object':\n",
        "    df[column] = df[column].astype('category')\n",
        "    df[column] = df[column].cat.codes\n",
        "\n",
        "print('Shape of the dataframe: ', df.shape)"
      ],
      "metadata": {
        "colab": {
          "base_uri": "https://localhost:8080/",
          "height": 0
        },
        "id": "koOm3Qk4JRPr",
        "outputId": "702fd400-ff2f-4b96-874e-e179114eac71"
      },
      "execution_count": 3,
      "outputs": [
        {
          "output_type": "stream",
          "name": "stdout",
          "text": [
            "Shape of the dataframe:  (8602, 122)\n"
          ]
        }
      ]
    },
    {
      "cell_type": "code",
      "source": [
        "#seperate the targets from the data and complete train/test split\n",
        "y = df['TARGET']\n",
        "x = df.drop(columns=['TARGET'])\n",
        "X_train, X_test, y_train, y_test = train_test_split(x, y, test_size=0.2, random_state=1)"
      ],
      "metadata": {
        "id": "zbL6j_BvJT8J"
      },
      "execution_count": 4,
      "outputs": []
    },
    {
      "cell_type": "code",
      "source": [
        "#perform GBT to compare performance with the SVM\n",
        "gbc = GradientBoostingClassifier(learning_rate=1.0, max_depth=3, random_state=0)\n",
        "gbc = gbc.fit(X_train, y_train)\n",
        "\n",
        "pred_train = gbc.predict(X_train)\n",
        "pred_test = gbc.predict(X_test)\n",
        "\n",
        "print(\"Train Accuracy:\", round(metrics.accuracy_score(y_train, pred_train),3))\n",
        "print(\"Test Accuracy:\", round(metrics.accuracy_score(y_test, pred_test),3))\n",
        "print(\"F1 Score:\", round(metrics.f1_score(pred_test, y_test, average=\"weighted\"),3))\n",
        "print(\"Recall Score:\", round(metrics.recall_score(pred_test, y_test, average=\"weighted\"),3))\n",
        "print(\"Precision Score:\", round(metrics.precision_score(pred_test, y_test, average=\"weighted\"),3))"
      ],
      "metadata": {
        "colab": {
          "base_uri": "https://localhost:8080/",
          "height": 0
        },
        "id": "M39hNOMhJXgS",
        "outputId": "e22ae36b-b2d0-4ae9-911a-490b2ee1fefb"
      },
      "execution_count": 5,
      "outputs": [
        {
          "output_type": "stream",
          "name": "stdout",
          "text": [
            "Train Accuracy: 0.978\n",
            "Test Accuracy: 0.91\n",
            "F1 Score: 0.914\n",
            "Recall Score: 0.91\n",
            "Precision Score: 0.917\n"
          ]
        }
      ]
    },
    {
      "cell_type": "code",
      "source": [
        "#perform SVM and return performance metrics\n",
        "clf = svm.SVC(kernel='rbf')\n",
        "clf.fit(X_train, y_train)\n",
        "\n",
        "pred_train = clf.predict(X_train)\n",
        "pred_test = clf.predict(X_test)\n",
        "\n",
        "print(\"Train Accuracy:\", round(metrics.accuracy_score(y_train, pred_train),3))\n",
        "print(\"Test Accuracy:\", round(metrics.accuracy_score(y_test, pred_test),3))\n",
        "print(\"F1 Score:\", round(metrics.f1_score(pred_test, y_test, average=\"weighted\"),3))\n",
        "print(\"Recall Score:\", round(metrics.recall_score(pred_test, y_test, average=\"weighted\"),3))\n",
        "print(\"Precision Score:\", round(metrics.precision_score(pred_test, y_test, average=\"weighted\"),3))"
      ],
      "metadata": {
        "colab": {
          "base_uri": "https://localhost:8080/",
          "height": 0
        },
        "id": "ZJ4sD2HvKzGq",
        "outputId": "a6c656a6-d07c-4b45-9d43-a5f6375a5378"
      },
      "execution_count": 6,
      "outputs": [
        {
          "output_type": "stream",
          "name": "stdout",
          "text": [
            "Train Accuracy: 0.937\n",
            "Test Accuracy: 0.945\n",
            "F1 Score: 0.972\n",
            "Recall Score: 0.945\n",
            "Precision Score: 1.0\n"
          ]
        }
      ]
    },
    {
      "cell_type": "code",
      "source": [
        "#perform SVM and see the effect of the regularization parameter\n",
        "clf = svm.SVC(C=100)\n",
        "clf.fit(X_train, y_train)\n",
        "\n",
        "pred_train = clf.predict(X_train)\n",
        "pred_test = clf.predict(X_test)\n",
        "\n",
        "print(\"Train Accuracy:\", round(metrics.accuracy_score(y_train, pred_train),3))\n",
        "print(\"Test Accuracy:\", round(metrics.accuracy_score(y_test, pred_test),3))\n",
        "print(\"F1 Score:\", round(metrics.f1_score(pred_test, y_test, average=\"weighted\"),3))\n",
        "print(\"Recall Score:\", round(metrics.recall_score(pred_test, y_test, average=\"weighted\"),3))\n",
        "print(\"Precision Score:\", round(metrics.precision_score(pred_test, y_test, average=\"weighted\"),3))"
      ],
      "metadata": {
        "colab": {
          "base_uri": "https://localhost:8080/",
          "height": 0
        },
        "id": "9YkftDe975i-",
        "outputId": "a7fdc8f5-7f86-4f90-b7e0-2b04cfedcf7f"
      },
      "execution_count": 7,
      "outputs": [
        {
          "output_type": "stream",
          "name": "stdout",
          "text": [
            "Train Accuracy: 0.937\n",
            "Test Accuracy: 0.945\n",
            "F1 Score: 0.972\n",
            "Recall Score: 0.945\n",
            "Precision Score: 1.0\n"
          ]
        }
      ]
    },
    {
      "cell_type": "code",
      "source": [
        "#perform SVM and see the effect of the gamma parameter\n",
        "clf = svm.SVC(gamma='auto')\n",
        "clf.fit(X_train, y_train)\n",
        "\n",
        "pred_train = clf.predict(X_train)\n",
        "pred_test = clf.predict(X_test)\n",
        "\n",
        "print(\"Train Accuracy:\", round(metrics.accuracy_score(y_train, pred_train),3))\n",
        "print(\"Test Accuracy:\", round(metrics.accuracy_score(y_test, pred_test),3))\n",
        "print(\"F1 Score:\", round(metrics.f1_score(pred_test, y_test, average=\"weighted\"),3))\n",
        "print(\"Recall Score:\", round(metrics.recall_score(pred_test, y_test, average=\"weighted\"),3))\n",
        "print(\"Precision Score:\", round(metrics.precision_score(pred_test, y_test, average=\"weighted\"),3))"
      ],
      "metadata": {
        "colab": {
          "base_uri": "https://localhost:8080/",
          "height": 0
        },
        "id": "lg310wjZCE2y",
        "outputId": "2acd579f-e51b-49b3-a738-f51cad7dcaa8"
      },
      "execution_count": 8,
      "outputs": [
        {
          "output_type": "stream",
          "name": "stdout",
          "text": [
            "Train Accuracy: 1.0\n",
            "Test Accuracy: 0.945\n",
            "F1 Score: 0.972\n",
            "Recall Score: 0.945\n",
            "Precision Score: 1.0\n"
          ]
        }
      ]
    },
    {
      "cell_type": "code",
      "source": [
        "#perform SVM and see the effect of the sigmoid kernel\n",
        "clf = svm.SVC(kernel='sigmoid')\n",
        "clf.fit(X_train, y_train)\n",
        "\n",
        "pred_train = clf.predict(X_train)\n",
        "pred_test = clf.predict(X_test)\n",
        "\n",
        "print(\"Train Accuracy:\", round(metrics.accuracy_score(y_train, pred_train),3))\n",
        "print(\"Test Accuracy:\", round(metrics.accuracy_score(y_test, pred_test),3))\n",
        "print(\"F1 Score:\", round(metrics.f1_score(pred_test, y_test, average=\"weighted\"),3))\n",
        "print(\"Recall Score:\", round(metrics.recall_score(pred_test, y_test, average=\"weighted\"),3))\n",
        "print(\"Precision Score:\", round(metrics.precision_score(pred_test, y_test, average=\"weighted\"),3))"
      ],
      "metadata": {
        "colab": {
          "base_uri": "https://localhost:8080/",
          "height": 0
        },
        "id": "rS_7honJ26Bp",
        "outputId": "8c4c6f76-4b7e-43c5-ccfc-df8fcd1b14cf"
      },
      "execution_count": 9,
      "outputs": [
        {
          "output_type": "stream",
          "name": "stdout",
          "text": [
            "Train Accuracy: 0.882\n",
            "Test Accuracy: 0.89\n",
            "F1 Score: 0.887\n",
            "Recall Score: 0.89\n",
            "Precision Score: 0.884\n"
          ]
        }
      ]
    },
    {
      "cell_type": "code",
      "source": [
        "#perform SVM and see the effect of the polynomial kernel\n",
        "clf = svm.SVC(kernel='poly')\n",
        "clf.fit(X_train, y_train)\n",
        "\n",
        "pred_train = clf.predict(X_train)\n",
        "pred_test = clf.predict(X_test)\n",
        "\n",
        "print(\"Train Accuracy:\", round(metrics.accuracy_score(y_train, pred_train),3))\n",
        "print(\"Test Accuracy:\", round(metrics.accuracy_score(y_test, pred_test),3))\n",
        "print(\"F1 Score:\", round(metrics.f1_score(pred_test, y_test, average=\"weighted\"),3))\n",
        "print(\"Recall Score:\", round(metrics.recall_score(pred_test, y_test, average=\"weighted\"),3))\n",
        "print(\"Precision Score:\", round(metrics.precision_score(pred_test, y_test, average=\"weighted\"),3))"
      ],
      "metadata": {
        "colab": {
          "base_uri": "https://localhost:8080/",
          "height": 0
        },
        "id": "Hztx1hvA25nU",
        "outputId": "e08877b5-3ee7-4a88-8c47-19cc1174ccaf"
      },
      "execution_count": 10,
      "outputs": [
        {
          "output_type": "stream",
          "name": "stdout",
          "text": [
            "Train Accuracy: 0.937\n",
            "Test Accuracy: 0.945\n",
            "F1 Score: 0.972\n",
            "Recall Score: 0.945\n",
            "Precision Score: 1.0\n"
          ]
        }
      ]
    },
    {
      "cell_type": "markdown",
      "source": [
        "Both methods have high performance metrics with SVM having slightly higher results than the gradient boosting classifier in all metrics other than the training accuracy. The benefit of using SVM is that it is effective in a high dimensional space such as the credit dataset. The performance metrics indicate that the data can be separated well using a hyperplane and although neither model appears to be overfitting based on the accuracies reported, the SVM appears to do a better job of creating a model that can handle data that has not yet been seen.\n",
        "When parameter tuning the SVM model, modifying the regularization parameter did not have an effect on the performance metrics. The gamma parameter resulted in an improvement in the training accuracy when set to 'auto'. The radial basis function kernel and the polynomial kernel obtained the same performance; however, the sigmoid kernel produced worse results than the gradient boosting classifier."
      ],
      "metadata": {
        "id": "E0DRPRTccQO3"
      }
    }
  ]
}